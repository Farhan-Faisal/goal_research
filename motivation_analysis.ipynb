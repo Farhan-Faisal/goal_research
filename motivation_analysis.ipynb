{
 "cells": [
  {
   "cell_type": "markdown",
   "metadata": {},
   "source": [
    "___\n",
    "LOAD LIBRARIES\n",
    "___"
   ]
  },
  {
   "cell_type": "code",
   "execution_count": 9,
   "metadata": {},
   "outputs": [],
   "source": [
    "import pandas as pd\n",
    "from scipy.stats import pearsonr"
   ]
  },
  {
   "cell_type": "code",
   "execution_count": 10,
   "metadata": {},
   "outputs": [],
   "source": [
    "import numpy as np\n",
    "import config\n",
    "import os\n",
    "import openai\n",
    "import time\n",
    "\n",
    "import json\n",
    "\n",
    "import random\n",
    "from sklearn.metrics.pairwise import cosine_similarity\n",
    "from tqdm import tqdm"
   ]
  },
  {
   "cell_type": "markdown",
   "metadata": {},
   "source": [
    "___\n",
    "LOAD IN DATA - GOAL LABELS, SELF REPORT MEASURES\n",
    "___"
   ]
  },
  {
   "cell_type": "code",
   "execution_count": 2,
   "metadata": {},
   "outputs": [],
   "source": [
    "goal_path = \"./data/proc/goals/daily_goals_labeled_embedding_wide.csv\"\n",
    "self_report_path = \"./data/proc/self_report/self_report.csv\""
   ]
  },
  {
   "cell_type": "code",
   "execution_count": 3,
   "metadata": {},
   "outputs": [
    {
     "data": {
      "text/html": [
       "<div>\n",
       "<style scoped>\n",
       "    .dataframe tbody tr th:only-of-type {\n",
       "        vertical-align: middle;\n",
       "    }\n",
       "\n",
       "    .dataframe tbody tr th {\n",
       "        vertical-align: top;\n",
       "    }\n",
       "\n",
       "    .dataframe thead th {\n",
       "        text-align: right;\n",
       "    }\n",
       "</style>\n",
       "<table border=\"1\" class=\"dataframe\">\n",
       "  <thead>\n",
       "    <tr style=\"text-align: right;\">\n",
       "      <th></th>\n",
       "      <th>ParticipantIdentifier</th>\n",
       "      <th>trial_date</th>\n",
       "      <th>DAILY_goal1_confidence</th>\n",
       "      <th>DAILY_goal1_consequences</th>\n",
       "      <th>DAILY_goal1_effort</th>\n",
       "      <th>DAILY_goal1_importance</th>\n",
       "      <th>DAILY_goal2_confidence</th>\n",
       "      <th>DAILY_goal2_consequences</th>\n",
       "      <th>DAILY_goal2_effort</th>\n",
       "      <th>DAILY_goal2_importance</th>\n",
       "      <th>DAILY_goal1_set</th>\n",
       "      <th>DAILY_goal2_set</th>\n",
       "      <th>DAILY_goal1_report</th>\n",
       "      <th>DAILY_goal2_report</th>\n",
       "      <th>DAILY_goal2_interaction_eachOther</th>\n",
       "      <th>DAILY_goal1_motivationExternal</th>\n",
       "      <th>DAILY_goal1_motivationInternal</th>\n",
       "      <th>DAILY_goal2_motivationExternal</th>\n",
       "      <th>DAILY_goal2_motivationInternal</th>\n",
       "    </tr>\n",
       "  </thead>\n",
       "  <tbody>\n",
       "    <tr>\n",
       "      <th>0</th>\n",
       "      <td>0501ba67-3406-4779-aff1-878a0e9f7885</td>\n",
       "      <td>2022-09-30</td>\n",
       "      <td>4.0</td>\n",
       "      <td>3.0</td>\n",
       "      <td>6.0</td>\n",
       "      <td>5.0</td>\n",
       "      <td>6.0</td>\n",
       "      <td>1.0</td>\n",
       "      <td>7.0</td>\n",
       "      <td>4.0</td>\n",
       "      <td>Study history and psychology, practice the vio...</td>\n",
       "      <td>Do exercise</td>\n",
       "      <td>NaN</td>\n",
       "      <td>NaN</td>\n",
       "      <td>NaN</td>\n",
       "      <td>7.0</td>\n",
       "      <td>6.0</td>\n",
       "      <td>3.0</td>\n",
       "      <td>7.0</td>\n",
       "    </tr>\n",
       "    <tr>\n",
       "      <th>1</th>\n",
       "      <td>0501ba67-3406-4779-aff1-878a0e9f7885</td>\n",
       "      <td>2022-10-01</td>\n",
       "      <td>5.0</td>\n",
       "      <td>4.0</td>\n",
       "      <td>7.0</td>\n",
       "      <td>7.0</td>\n",
       "      <td>3.0</td>\n",
       "      <td>3.0</td>\n",
       "      <td>5.0</td>\n",
       "      <td>5.0</td>\n",
       "      <td>study history lectures</td>\n",
       "      <td>Watch the historical movie</td>\n",
       "      <td>70.0</td>\n",
       "      <td>100.0</td>\n",
       "      <td>NaN</td>\n",
       "      <td>6.0</td>\n",
       "      <td>7.0</td>\n",
       "      <td>6.0</td>\n",
       "      <td>5.0</td>\n",
       "    </tr>\n",
       "    <tr>\n",
       "      <th>2</th>\n",
       "      <td>0501ba67-3406-4779-aff1-878a0e9f7885</td>\n",
       "      <td>2022-10-02</td>\n",
       "      <td>7.0</td>\n",
       "      <td>5.0</td>\n",
       "      <td>4.0</td>\n",
       "      <td>7.0</td>\n",
       "      <td>2.0</td>\n",
       "      <td>7.0</td>\n",
       "      <td>7.0</td>\n",
       "      <td>7.0</td>\n",
       "      <td>Watch a historical movie</td>\n",
       "      <td>Review for psy and bio</td>\n",
       "      <td>89.0</td>\n",
       "      <td>0.0</td>\n",
       "      <td>NaN</td>\n",
       "      <td>7.0</td>\n",
       "      <td>5.0</td>\n",
       "      <td>7.0</td>\n",
       "      <td>6.0</td>\n",
       "    </tr>\n",
       "  </tbody>\n",
       "</table>\n",
       "</div>"
      ],
      "text/plain": [
       "                  ParticipantIdentifier  trial_date  DAILY_goal1_confidence  \\\n",
       "0  0501ba67-3406-4779-aff1-878a0e9f7885  2022-09-30                     4.0   \n",
       "1  0501ba67-3406-4779-aff1-878a0e9f7885  2022-10-01                     5.0   \n",
       "2  0501ba67-3406-4779-aff1-878a0e9f7885  2022-10-02                     7.0   \n",
       "\n",
       "   DAILY_goal1_consequences  DAILY_goal1_effort  DAILY_goal1_importance  \\\n",
       "0                       3.0                 6.0                     5.0   \n",
       "1                       4.0                 7.0                     7.0   \n",
       "2                       5.0                 4.0                     7.0   \n",
       "\n",
       "   DAILY_goal2_confidence  DAILY_goal2_consequences  DAILY_goal2_effort  \\\n",
       "0                     6.0                       1.0                 7.0   \n",
       "1                     3.0                       3.0                 5.0   \n",
       "2                     2.0                       7.0                 7.0   \n",
       "\n",
       "   DAILY_goal2_importance                                    DAILY_goal1_set  \\\n",
       "0                     4.0  Study history and psychology, practice the vio...   \n",
       "1                     5.0                             study history lectures   \n",
       "2                     7.0                           Watch a historical movie   \n",
       "\n",
       "              DAILY_goal2_set  DAILY_goal1_report  DAILY_goal2_report  \\\n",
       "0                Do exercise                  NaN                 NaN   \n",
       "1  Watch the historical movie                70.0               100.0   \n",
       "2      Review for psy and bio                89.0                 0.0   \n",
       "\n",
       "   DAILY_goal2_interaction_eachOther  DAILY_goal1_motivationExternal  \\\n",
       "0                                NaN                             7.0   \n",
       "1                                NaN                             6.0   \n",
       "2                                NaN                             7.0   \n",
       "\n",
       "   DAILY_goal1_motivationInternal  DAILY_goal2_motivationExternal  \\\n",
       "0                             6.0                             3.0   \n",
       "1                             7.0                             6.0   \n",
       "2                             5.0                             7.0   \n",
       "\n",
       "   DAILY_goal2_motivationInternal  \n",
       "0                             7.0  \n",
       "1                             5.0  \n",
       "2                             6.0  "
      ]
     },
     "execution_count": 3,
     "metadata": {},
     "output_type": "execute_result"
    }
   ],
   "source": [
    "self_report_df = pd.read_csv(self_report_path)\n",
    "self_report_df.head(3)"
   ]
  },
  {
   "cell_type": "code",
   "execution_count": 4,
   "metadata": {},
   "outputs": [
    {
     "data": {
      "text/html": [
       "<div>\n",
       "<style scoped>\n",
       "    .dataframe tbody tr th:only-of-type {\n",
       "        vertical-align: middle;\n",
       "    }\n",
       "\n",
       "    .dataframe tbody tr th {\n",
       "        vertical-align: top;\n",
       "    }\n",
       "\n",
       "    .dataframe thead th {\n",
       "        text-align: right;\n",
       "    }\n",
       "</style>\n",
       "<table border=\"1\" class=\"dataframe\">\n",
       "  <thead>\n",
       "    <tr style=\"text-align: right;\">\n",
       "      <th></th>\n",
       "      <th>ParticipantIdentifier</th>\n",
       "      <th>trial_date</th>\n",
       "      <th>DAILY_goal1_set</th>\n",
       "      <th>DAILY_goal2_set</th>\n",
       "      <th>DAILY_goal1_label</th>\n",
       "      <th>DAILY_goal2_label</th>\n",
       "      <th>DAILY_goal1_embedding</th>\n",
       "      <th>DAILY_goal2_embedding</th>\n",
       "    </tr>\n",
       "  </thead>\n",
       "  <tbody>\n",
       "    <tr>\n",
       "      <th>0</th>\n",
       "      <td>0501ba67-3406-4779-aff1-878a0e9f7885</td>\n",
       "      <td>2022-09-30</td>\n",
       "      <td>Study history and psychology, practice the violin</td>\n",
       "      <td>Do exercise</td>\n",
       "      <td>School</td>\n",
       "      <td>Exercise</td>\n",
       "      <td>[-0.038126230239868164, -0.021308906376361847,...</td>\n",
       "      <td>[-0.012392040342092514, 0.017055129632353783, ...</td>\n",
       "    </tr>\n",
       "    <tr>\n",
       "      <th>1</th>\n",
       "      <td>0501ba67-3406-4779-aff1-878a0e9f7885</td>\n",
       "      <td>2022-10-03</td>\n",
       "      <td>review</td>\n",
       "      <td>movie review</td>\n",
       "      <td>School</td>\n",
       "      <td>Culture</td>\n",
       "      <td>[0.03161436691880226, 0.029465556144714355, -0...</td>\n",
       "      <td>[-0.02972441539168358, 0.03863658756017685, -0...</td>\n",
       "    </tr>\n",
       "    <tr>\n",
       "      <th>2</th>\n",
       "      <td>0501ba67-3406-4779-aff1-878a0e9f7885</td>\n",
       "      <td>2022-10-07</td>\n",
       "      <td>practice the violin</td>\n",
       "      <td>Work out</td>\n",
       "      <td>Hobby</td>\n",
       "      <td>Exercise</td>\n",
       "      <td>[-0.01599280908703804, -0.0059240879490971565,...</td>\n",
       "      <td>[-0.03653150796890259, 0.02275843359529972, -0...</td>\n",
       "    </tr>\n",
       "  </tbody>\n",
       "</table>\n",
       "</div>"
      ],
      "text/plain": [
       "                  ParticipantIdentifier  trial_date  \\\n",
       "0  0501ba67-3406-4779-aff1-878a0e9f7885  2022-09-30   \n",
       "1  0501ba67-3406-4779-aff1-878a0e9f7885  2022-10-03   \n",
       "2  0501ba67-3406-4779-aff1-878a0e9f7885  2022-10-07   \n",
       "\n",
       "                                     DAILY_goal1_set DAILY_goal2_set  \\\n",
       "0  Study history and psychology, practice the violin     Do exercise   \n",
       "1                                             review    movie review   \n",
       "2                                practice the violin        Work out   \n",
       "\n",
       "  DAILY_goal1_label DAILY_goal2_label  \\\n",
       "0            School          Exercise   \n",
       "1            School           Culture   \n",
       "2             Hobby          Exercise   \n",
       "\n",
       "                               DAILY_goal1_embedding  \\\n",
       "0  [-0.038126230239868164, -0.021308906376361847,...   \n",
       "1  [0.03161436691880226, 0.029465556144714355, -0...   \n",
       "2  [-0.01599280908703804, -0.0059240879490971565,...   \n",
       "\n",
       "                               DAILY_goal2_embedding  \n",
       "0  [-0.012392040342092514, 0.017055129632353783, ...  \n",
       "1  [-0.02972441539168358, 0.03863658756017685, -0...  \n",
       "2  [-0.03653150796890259, 0.02275843359529972, -0...  "
      ]
     },
     "execution_count": 4,
     "metadata": {},
     "output_type": "execute_result"
    }
   ],
   "source": [
    "goal_df = pd.read_csv(goal_path)\n",
    "goal_df.head(3)"
   ]
  },
  {
   "cell_type": "markdown",
   "metadata": {},
   "source": [
    "___\n",
    "## REPLICATING EXISTING HYPOTHESIS\n",
    "___"
   ]
  },
  {
   "cell_type": "markdown",
   "metadata": {},
   "source": [
    "___\n",
    "#### 1. WHICH IS MORE CORRELATED TO GOAL GOMPLETION - INTRINSIC OR EXTRINSIC MOTIVATION\n",
    "Deci, E. L., & Ryan, R. M. (1985). *Intrinsic Motivation and Self-Determination in Human Behavior*. Springer Science & Business Media.\n",
    "___"
   ]
  },
  {
   "cell_type": "code",
   "execution_count": 14,
   "metadata": {},
   "outputs": [
    {
     "data": {
      "text/html": [
       "<div>\n",
       "<style scoped>\n",
       "    .dataframe tbody tr th:only-of-type {\n",
       "        vertical-align: middle;\n",
       "    }\n",
       "\n",
       "    .dataframe tbody tr th {\n",
       "        vertical-align: top;\n",
       "    }\n",
       "\n",
       "    .dataframe thead th {\n",
       "        text-align: right;\n",
       "    }\n",
       "</style>\n",
       "<table border=\"1\" class=\"dataframe\">\n",
       "  <thead>\n",
       "    <tr style=\"text-align: right;\">\n",
       "      <th></th>\n",
       "      <th>report</th>\n",
       "      <th>motivationExternal</th>\n",
       "      <th>motivationInternal</th>\n",
       "    </tr>\n",
       "  </thead>\n",
       "  <tbody>\n",
       "    <tr>\n",
       "      <th>1</th>\n",
       "      <td>70.0</td>\n",
       "      <td>6.0</td>\n",
       "      <td>7.0</td>\n",
       "    </tr>\n",
       "    <tr>\n",
       "      <th>2</th>\n",
       "      <td>89.0</td>\n",
       "      <td>7.0</td>\n",
       "      <td>5.0</td>\n",
       "    </tr>\n",
       "  </tbody>\n",
       "</table>\n",
       "</div>"
      ],
      "text/plain": [
       "   report  motivationExternal  motivationInternal\n",
       "1    70.0                 6.0                 7.0\n",
       "2    89.0                 7.0                 5.0"
      ]
     },
     "execution_count": 14,
     "metadata": {},
     "output_type": "execute_result"
    }
   ],
   "source": [
    "cols_1 = [\n",
    "    \"DAILY_goal1_report\",\n",
    "    \"DAILY_goal1_motivationExternal\",\n",
    "    \"DAILY_goal1_motivationInternal\"\n",
    "]\n",
    "\n",
    "cols_2 = [\n",
    "    \"DAILY_goal2_report\", \n",
    "    \"DAILY_goal2_motivationExternal\",\n",
    "    \"DAILY_goal2_motivationInternal\"\n",
    "]\n",
    "\n",
    "q1_df_goal1 = self_report_df[cols_1].rename(columns={\n",
    "    \"DAILY_goal1_report\": \"report\",\n",
    "    \"DAILY_goal1_motivationExternal\": \"motivationExternal\",\n",
    "    \"DAILY_goal1_motivationInternal\": \"motivationInternal\"\n",
    "})\n",
    "\n",
    "q1_df_goal2 = self_report_df[cols_2].rename(columns={\n",
    "    \"DAILY_goal2_report\": \"report\",\n",
    "    \"DAILY_goal2_motivationExternal\": \"motivationExternal\",\n",
    "    \"DAILY_goal2_motivationInternal\": \"motivationInternal\"\n",
    "})\n",
    "\n",
    "\n",
    "q1_df = pd.concat([q1_df_goal1, q1_df_goal2]).dropna()\n",
    "q1_df.head(2)"
   ]
  },
  {
   "cell_type": "code",
   "execution_count": 15,
   "metadata": {},
   "outputs": [
    {
     "name": "stdout",
     "output_type": "stream",
     "text": [
      "Correlation between goal completion and External Motivation: 0.007010375660294542\n",
      "P-value: 0.31625203522946443\n"
     ]
    }
   ],
   "source": [
    "corr, p_value = pearsonr(q1_df['report'], q1_df['motivationExternal'])\n",
    "print(f\"Correlation between goal completion and External Motivation: {corr}\")\n",
    "print(f\"P-value: {p_value}\")"
   ]
  },
  {
   "cell_type": "code",
   "execution_count": 16,
   "metadata": {},
   "outputs": [
    {
     "name": "stdout",
     "output_type": "stream",
     "text": [
      "Correlation between goal completion and Internal Motivation: 0.10241681226048392\n",
      "P-value: 8.692246617964719e-49\n"
     ]
    }
   ],
   "source": [
    "corr, p_value = pearsonr(q1_df['report'], q1_df['motivationInternal'])\n",
    "print(f\"Correlation between goal completion and Internal Motivation: {corr}\")\n",
    "print(f\"P-value: {p_value}\")\n"
   ]
  },
  {
   "cell_type": "markdown",
   "metadata": {},
   "source": [
    "- Correlation between internal motivation and goal completion seems to be positive\n",
    "- Effect size is small but statistically significant."
   ]
  },
  {
   "cell_type": "markdown",
   "metadata": {},
   "source": [
    "___\n",
    "#### 2. Higher goal similarity should lead to higher motivation levels\n",
    "High similarity between two daily goals (aligned goals) is likely to enhance the motivation and improve completion rates\n",
    "\n",
    "Locke, E. A., & Latham, G. P. (1990). *A Theory of Goal Setting & Task Performance*. Prentice-Hall, Inc.\n",
    "___"
   ]
  },
  {
   "cell_type": "code",
   "execution_count": 36,
   "metadata": {},
   "outputs": [
    {
     "data": {
      "text/html": [
       "<div>\n",
       "<style scoped>\n",
       "    .dataframe tbody tr th:only-of-type {\n",
       "        vertical-align: middle;\n",
       "    }\n",
       "\n",
       "    .dataframe tbody tr th {\n",
       "        vertical-align: top;\n",
       "    }\n",
       "\n",
       "    .dataframe thead th {\n",
       "        text-align: right;\n",
       "    }\n",
       "</style>\n",
       "<table border=\"1\" class=\"dataframe\">\n",
       "  <thead>\n",
       "    <tr style=\"text-align: right;\">\n",
       "      <th></th>\n",
       "      <th>ParticipantIdentifier</th>\n",
       "      <th>trial_date</th>\n",
       "      <th>daily_goal_similarity</th>\n",
       "      <th>motivationExternal</th>\n",
       "      <th>motivationInternal</th>\n",
       "    </tr>\n",
       "  </thead>\n",
       "  <tbody>\n",
       "    <tr>\n",
       "      <th>0</th>\n",
       "      <td>0501ba67-3406-4779-aff1-878a0e9f7885</td>\n",
       "      <td>2022-09-30</td>\n",
       "      <td>0.303563</td>\n",
       "      <td>7.0</td>\n",
       "      <td>6.0</td>\n",
       "    </tr>\n",
       "    <tr>\n",
       "      <th>1</th>\n",
       "      <td>0501ba67-3406-4779-aff1-878a0e9f7885</td>\n",
       "      <td>2022-10-03</td>\n",
       "      <td>0.484760</td>\n",
       "      <td>7.0</td>\n",
       "      <td>4.0</td>\n",
       "    </tr>\n",
       "  </tbody>\n",
       "</table>\n",
       "</div>"
      ],
      "text/plain": [
       "                  ParticipantIdentifier  trial_date  daily_goal_similarity  \\\n",
       "0  0501ba67-3406-4779-aff1-878a0e9f7885  2022-09-30               0.303563   \n",
       "1  0501ba67-3406-4779-aff1-878a0e9f7885  2022-10-03               0.484760   \n",
       "\n",
       "   motivationExternal  motivationInternal  \n",
       "0                 7.0                 6.0  \n",
       "1                 7.0                 4.0  "
      ]
     },
     "execution_count": 36,
     "metadata": {},
     "output_type": "execute_result"
    }
   ],
   "source": [
    "q2_df = goal_df[[\n",
    "    \"ParticipantIdentifier\", \"trial_date\",\n",
    "    \"DAILY_goal1_embedding\", \"DAILY_goal2_embedding\"]\n",
    "].dropna()\n",
    "\n",
    "q2_df[\"daily_goal_similarity\"] = q2_df.apply(\n",
    "    lambda x:  cosine_similarity(\n",
    "        [json.loads(x['DAILY_goal1_embedding'])], \n",
    "        [json.loads(x['DAILY_goal2_embedding'])]\n",
    "    )[0][0], axis=1\n",
    ")\n",
    "\n",
    "q2_df = q2_df.merge(self_report_df, on=[\"ParticipantIdentifier\", \"trial_date\"])\n",
    "q2_df = q2_df[[\n",
    "    \"ParticipantIdentifier\", \"trial_date\", \"daily_goal_similarity\", \n",
    "    \"DAILY_goal1_motivationExternal\", \"DAILY_goal1_motivationInternal\",\n",
    "    \"DAILY_goal2_motivationExternal\", \"DAILY_goal2_motivationInternal\"\n",
    "]]\n",
    "\n",
    "q2_df_goal1 = q2_df[[\n",
    "    \"ParticipantIdentifier\", \"trial_date\", \"daily_goal_similarity\", \n",
    "    \"DAILY_goal1_motivationExternal\", \"DAILY_goal1_motivationInternal\",\n",
    "]].rename(\n",
    "    columns={\n",
    "        \"DAILY_goal1_motivationExternal\": \"motivationExternal\",\n",
    "        \"DAILY_goal1_motivationInternal\": \"motivationInternal\"\n",
    "    }\n",
    ")\n",
    "\n",
    "q2_df_goal2 = q2_df[[\n",
    "    \"ParticipantIdentifier\", \"trial_date\", \"daily_goal_similarity\", \n",
    "    \"DAILY_goal2_motivationExternal\", \"DAILY_goal2_motivationInternal\",\n",
    "]].rename(\n",
    "    columns={\n",
    "        \"DAILY_goal2_motivationExternal\": \"motivationExternal\",\n",
    "        \"DAILY_goal2_motivationInternal\": \"motivationInternal\"\n",
    "    }\n",
    ")\n",
    "\n",
    "q2_df = pd.concat([q2_df_goal1, q2_df_goal2]).dropna()\n",
    "q2_df.head(2)"
   ]
  },
  {
   "cell_type": "code",
   "execution_count": 37,
   "metadata": {},
   "outputs": [
    {
     "name": "stdout",
     "output_type": "stream",
     "text": [
      "Correlation between daily goal similarity and External Motivation: 0.0828433037541802\n",
      "P-value: 6.12103858165426e-06\n"
     ]
    }
   ],
   "source": [
    "corr, p_value = pearsonr(q2_df['daily_goal_similarity'], q2_df['motivationExternal'])\n",
    "print(f\"Correlation between daily goal similarity and External Motivation: {corr}\")\n",
    "print(f\"P-value: {p_value}\")"
   ]
  },
  {
   "cell_type": "code",
   "execution_count": 38,
   "metadata": {},
   "outputs": [
    {
     "name": "stdout",
     "output_type": "stream",
     "text": [
      "Correlation between daily goal similarity and Internal Motivation: -0.08411622370607084\n",
      "P-value: 4.392393675079257e-06\n"
     ]
    }
   ],
   "source": [
    "corr, p_value = pearsonr(q2_df['daily_goal_similarity'], q2_df['motivationInternal'])\n",
    "print(f\"Correlation between daily goal similarity and Internal Motivation: {corr}\")\n",
    "print(f\"P-value: {p_value}\")"
   ]
  },
  {
   "cell_type": "markdown",
   "metadata": {},
   "source": [
    "- External Motivation is positively correlated with daily goal similarity\n",
    "- Internal Motivation is positively correlated with daily goal similarity\n",
    "- Both effects are small but significant"
   ]
  },
  {
   "cell_type": "markdown",
   "metadata": {},
   "source": []
  },
  {
   "cell_type": "markdown",
   "metadata": {},
   "source": [
    "You can explore both existing hypotheses in the area of goal-setting and motivation, as well as pose new research questions. Here’s a breakdown:\n",
    "\n",
    "### **Existing Hypotheses You Can Replicate:**\n",
    "\n",
    "2. **Goal Conflict and Performance**:\n",
    "   - Hypothesis: When individuals perceive a high degree of conflict between their goals (e.g., when their two daily goals are in competition), their overall goal completion percentage decreases.\n",
    "   - Research: Conflict theory, as discussed by Emmons & King (1988), suggests that conflicting goals reduce cognitive resources, leading to lower performance.\n",
    "     - *Reference*: Emmons, R. A., & King, L. A. (1988). Conflict among personal strivings: Immediate and long-term implications for psychological and physical well-being. *Journal of Personality and Social Psychology*, 54(6), 1040.\n",
    "\n",
    "\n",
    "### **New Research Questions:**\n",
    "\n",
    "1. **Does the interaction between internal and external motivation predict goal similarity or conflict?**\n",
    "   - Question: How do varying levels of internal and external motivation interact to influence goal similarity or conflict? Does having strong intrinsic motivation reduce the likelihood of conflict between goals?\n",
    "\n",
    "2. **What role does motivation play in mediating the effects of goal conflict on completion rates?**\n",
    "   - Question: When two daily goals conflict, does motivation (internal or external) mediate the impact of this conflict on goal completion percentages? \n",
    "\n",
    "3. **How does the fluctuation of internal versus external motivation across days impact long-term goal pursuit?**\n",
    "   - Question: Do day-to-day shifts in internal and external motivation predict patterns in goal similarity or completion rates over time?\n",
    "\n",
    "4. **How does the interaction of goal similarity/conflict affect motivation in subsequent goal-setting?**\n",
    "   - Question: Does experiencing success in one goal (especially in the context of similar or dissimilar goals) affect internal or external motivation in setting future goals?\n",
    "\n",
    "### **Papers to Start Your Research:**\n",
    "\n",
    "- **Self-Determination Theory**: Deci, E. L., & Ryan, R. M. (2000). The \"what\" and \"why\" of goal pursuits: Human needs and the self-determination of behavior. *Psychological Inquiry*, 11(4), 227-268.\n",
    "  \n",
    "- **Goal Conflict**: Emmons, R. A., & King, L. A. (1988). Conflict among personal strivings: Immediate and long-term implications for psychological and physical well-being. *Journal of Personality and Social Psychology*, 54(6), 1040.\n",
    "\n",
    "- **Goal Similarity**: Kruglanski, A. W., et al. (2002). Goal Systems Theory: The Coherence of Self-Regulation. In *Advances in Experimental Social Psychology* (Vol. 34, pp. 331-378).\n",
    "\n",
    "- **Motivation and Goal Attainment**: Elliot, A. J., & Church, M. A. (1997). A hierarchical model of approach and avoidance achievement motivation. *Journal of Personality and Social Psychology*, 72(1), 218.\n",
    "\n",
    "These will give you foundational theory and an evidence base for your hypotheses, as well as inspiration for new lines of inquiry.\n"
   ]
  }
 ],
 "metadata": {
  "kernelspec": {
   "display_name": "base",
   "language": "python",
   "name": "python3"
  },
  "language_info": {
   "codemirror_mode": {
    "name": "ipython",
    "version": 3
   },
   "file_extension": ".py",
   "mimetype": "text/x-python",
   "name": "python",
   "nbconvert_exporter": "python",
   "pygments_lexer": "ipython3",
   "version": "3.11.9"
  }
 },
 "nbformat": 4,
 "nbformat_minor": 2
}
